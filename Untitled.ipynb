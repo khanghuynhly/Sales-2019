{
 "cells": [
  {
   "cell_type": "markdown",
   "id": "7a60a39e",
   "metadata": {},
   "source": [
    "## 1. Set up and Load data"
   ]
  },
  {
   "cell_type": "code",
   "execution_count": null,
   "id": "49f91753",
   "metadata": {},
   "outputs": [],
   "source": [
    "import pandas as pd\n",
    "import matplotlib.pyplot as plt\n",
    "import os\n",
    "%matplotlib inline"
   ]
  },
  {
   "cell_type": "code",
   "execution_count": null,
   "id": "a025019e",
   "metadata": {},
   "outputs": [],
   "source": [
    "path = 'C:/Users/KHANG HUYNH LY/Documents/Computer Language/Python/Project/Sales_2019/Sales Report/'\n",
    "frames = []\n",
    "for i in os.listdir(path):\n",
    "    if i.endswith('.csv'):\n",
    "        file = path + i\n",
    "        df1 = pd.read_csv(file)\n",
    "        frames.append(df1)\n",
    "        df = pd.concat(frames)\n",
    "df"
   ]
  },
  {
   "cell_type": "markdown",
   "id": "744fbb84",
   "metadata": {},
   "source": [
    "## 2. Clean and Preprocessing Data"
   ]
  },
  {
   "cell_type": "code",
   "execution_count": null,
   "id": "f1f166e0",
   "metadata": {},
   "outputs": [],
   "source": [
    "df['Month'] = df['Order Date'].str[0:2]\n",
    "print(set(df['Month']))"
   ]
  },
  {
   "cell_type": "code",
   "execution_count": null,
   "id": "a6f86a7f",
   "metadata": {},
   "outputs": [],
   "source": [
    "df = df.dropna(how='all')\n",
    "df = df[df['Month'] != 'Or']\n",
    "print(set(df['Month']))"
   ]
  },
  {
   "cell_type": "code",
   "execution_count": null,
   "id": "4c764196",
   "metadata": {},
   "outputs": [],
   "source": [
    "df.dtypes"
   ]
  },
  {
   "cell_type": "code",
   "execution_count": null,
   "id": "06f64133",
   "metadata": {},
   "outputs": [],
   "source": [
    "df['Quantity Ordered'] = pd.to_numeric(df['Quantity Ordered'],errors = 'coerce')\n",
    "df['Price Each'] = pd.to_numeric(df['Price Each'],errors = 'coerce')"
   ]
  },
  {
   "cell_type": "markdown",
   "id": "7d0f2023",
   "metadata": {},
   "source": [
    "## 3. Reporting"
   ]
  },
  {
   "cell_type": "markdown",
   "id": "123fc623",
   "metadata": {},
   "source": [
    "#### 3.1. What was the best month for sales? How much was earned that month?"
   ]
  },
  {
   "cell_type": "code",
   "execution_count": null,
   "id": "e978b07a",
   "metadata": {},
   "outputs": [],
   "source": [
    "df['Sales'] = df['Quantity Ordered'] * df['Price Each']\n",
    "df.head()"
   ]
  },
  {
   "cell_type": "code",
   "execution_count": null,
   "id": "5ae77ff9",
   "metadata": {},
   "outputs": [],
   "source": [
    "moving_column = df.pop('Sales')\n",
    "df.insert(4,'Sales',moving_column)\n",
    "df.head()"
   ]
  },
  {
   "cell_type": "code",
   "execution_count": null,
   "id": "f95447b2",
   "metadata": {},
   "outputs": [],
   "source": [
    "Sales_value = df.groupby('Month').sum()['Sales']"
   ]
  },
  {
   "cell_type": "code",
   "execution_count": null,
   "id": "695619fc",
   "metadata": {},
   "outputs": [],
   "source": [
    "months = range(1,13)\n",
    "plt.bar(x = months,height = Sales_value);\n",
    "plt.xticks(months)\n",
    "plt.xlabel('Months')\n",
    "plt.ylabel('Sales in USD')\n",
    "plt.show()"
   ]
  },
  {
   "cell_type": "markdown",
   "id": "ba314119",
   "metadata": {},
   "source": [
    "#### 3.2. What city has the best sales?"
   ]
  },
  {
   "cell_type": "code",
   "execution_count": null,
   "id": "c50ecb3e",
   "metadata": {},
   "outputs": [],
   "source": [
    "df.head()"
   ]
  },
  {
   "cell_type": "code",
   "execution_count": null,
   "id": "819f8656",
   "metadata": {},
   "outputs": [],
   "source": [
    "df['City'] = df['Purchase Address'].apply(lambda address:address.split(',')[1])\n",
    "df.head()"
   ]
  },
  {
   "cell_type": "code",
   "execution_count": null,
   "id": "a57252df",
   "metadata": {},
   "outputs": [],
   "source": [
    "Sales_by_city = df.groupby('City').sum()['Sales'].sort_values(ascending=False)\n",
    "Sales_by_city"
   ]
  },
  {
   "cell_type": "code",
   "execution_count": null,
   "id": "78b59479",
   "metadata": {},
   "outputs": [],
   "source": [
    "cities = []\n",
    "Sales_by_cities = []\n",
    "for city, value in Sales_by_city.items():\n",
    "    cities.append(city)\n",
    "    Sales_by_cities.append(value)\n",
    "print(cities)\n",
    "print(Sales_by_cities)"
   ]
  },
  {
   "cell_type": "code",
   "execution_count": null,
   "id": "9c6964fc",
   "metadata": {},
   "outputs": [],
   "source": [
    "plt.bar(x = cities,height = Sales_by_cities,color = 'red');\n",
    "plt.xticks(cities,rotation = 90)\n",
    "plt.xlabel('Cities')\n",
    "plt.ylabel('Sales in USD')\n",
    "plt.show()\n",
    "plt.savefig('bar_plot_matplotlib_descending_order_Python.png')"
   ]
  },
  {
   "cell_type": "markdown",
   "id": "20c2143e",
   "metadata": {},
   "source": [
    "#### 3.3 What time should we display ads to maximize the likelihood of customer's buying product?"
   ]
  },
  {
   "cell_type": "code",
   "execution_count": null,
   "id": "77beba4f",
   "metadata": {},
   "outputs": [],
   "source": [
    "df.head()"
   ]
  },
  {
   "cell_type": "code",
   "execution_count": null,
   "id": "2871f7d7",
   "metadata": {},
   "outputs": [],
   "source": [
    "df['Order Date'] = pd.to_datetime(df['Order Date'])\n",
    "print(df['Order Date'].dtypes)"
   ]
  },
  {
   "cell_type": "code",
   "execution_count": null,
   "id": "e7b12df6",
   "metadata": {},
   "outputs": [],
   "source": [
    "df['hour'] = df['Order Date'].dt.hour\n",
    "sales_by_hour = df.groupby('hour').sum()['Sales']\n",
    "sales_by_hour"
   ]
  },
  {
   "cell_type": "code",
   "execution_count": null,
   "id": "b8c8ce34",
   "metadata": {},
   "outputs": [],
   "source": [
    "hours = [h for h, s_h in sales_by_hour.items()]\n",
    "plt.plot(hours,sales_by_hour, color='blue');\n",
    "plt.title('Sales by Hours', fontsize=14)\n",
    "plt.xticks(hours, rotation = 90, size=8)\n",
    "plt.xlabel('Hour', fontsize=10)\n",
    "plt.ylabel('Sales in USD', fontsize=10)\n",
    "plt.grid(True)\n",
    "plt.show()"
   ]
  },
  {
   "cell_type": "markdown",
   "id": "26564c6f",
   "metadata": {},
   "source": [
    "#### 3.4. What products are most often sold together?"
   ]
  },
  {
   "cell_type": "code",
   "execution_count": null,
   "id": "fefa53b5",
   "metadata": {},
   "outputs": [],
   "source": [
    "df_dup = df[df['Order ID'].duplicated(keep=False)]\n",
    "df_dup.head()"
   ]
  },
  {
   "cell_type": "code",
   "execution_count": null,
   "id": "6758ce94",
   "metadata": {},
   "outputs": [],
   "source": [
    "df_dup['All Products'] = df_dup.groupby('Order ID')['Product'].transform(lambda product: ','.join(product))\n",
    "df_dup.head()"
   ]
  },
  {
   "cell_type": "code",
   "execution_count": null,
   "id": "7ee069db",
   "metadata": {},
   "outputs": [],
   "source": [
    "df_dup = df_dup[['Order ID','All Products']].drop_duplicates()\n",
    "df_dup"
   ]
  },
  {
   "cell_type": "code",
   "execution_count": null,
   "id": "6d069df1",
   "metadata": {},
   "outputs": [],
   "source": [
    "df_dup['All Products'].value_counts().head(10)"
   ]
  },
  {
   "cell_type": "markdown",
   "id": "4090852d",
   "metadata": {},
   "source": [
    "#### 3.5. What products sold the most?"
   ]
  },
  {
   "cell_type": "code",
   "execution_count": null,
   "id": "358a0ed6",
   "metadata": {},
   "outputs": [],
   "source": [
    "df.head()"
   ]
  },
  {
   "cell_type": "code",
   "execution_count": null,
   "id": "f111bca2",
   "metadata": {},
   "outputs": [],
   "source": [
    "Sales_Product = df.groupby('Product').sum()['Quantity Ordered'].sort_values(ascending=False)\n",
    "Sales_Product"
   ]
  },
  {
   "cell_type": "code",
   "execution_count": null,
   "id": "df238169",
   "metadata": {},
   "outputs": [],
   "source": [
    "Product = [p for p, a in Sales_Product.items()]\n",
    "amount = [a for p, a in Sales_Product.items()]\n",
    "plt.bar(x = Product,height = amount,color = 'green');\n",
    "plt.xticks(Product,rotation = 90)\n",
    "plt.xlabel('Products')\n",
    "plt.ylabel('Amount')\n",
    "plt.show()\n",
    "plt.savefig('bar_plot_matplotlib_descending_order_Python.png')"
   ]
  },
  {
   "cell_type": "markdown",
   "id": "0d3e0b74",
   "metadata": {},
   "source": [
    "#### 3.6. If the price affects to the number of Sales?"
   ]
  },
  {
   "cell_type": "code",
   "execution_count": null,
   "id": "f8ab27df",
   "metadata": {},
   "outputs": [],
   "source": [
    "prices = df.groupby('Product').mean()['Price Each']\n",
    "prices"
   ]
  },
  {
   "cell_type": "code",
   "execution_count": null,
   "id": "4492bd69",
   "metadata": {},
   "outputs": [],
   "source": [
    "x = Product\n",
    "y1 = amount\n",
    "y2 = prices\n",
    "\n",
    "fig, ax1 = plt.subplots()\n",
    "\n",
    "ax2 = ax1.twinx()\n",
    "ax1.bar(x, y1, color='g')\n",
    "ax2.plot(x, y2, 'b-')\n",
    "\n",
    "ax1.set_xticklabels(Product, rotation=90 ) \n",
    "ax1.set_xlabel('Products')\n",
    "ax1.set_ylabel('Sales Amount', color='g')\n",
    "ax2.set_ylabel('Price Each', color='b')\n",
    "\n",
    "plt.show()"
   ]
  }
 ],
 "metadata": {
  "kernelspec": {
   "display_name": "Python 3",
   "language": "python",
   "name": "python3"
  },
  "language_info": {
   "codemirror_mode": {
    "name": "ipython",
    "version": 3
   },
   "file_extension": ".py",
   "mimetype": "text/x-python",
   "name": "python",
   "nbconvert_exporter": "python",
   "pygments_lexer": "ipython3",
   "version": "3.8.8"
  }
 },
 "nbformat": 4,
 "nbformat_minor": 5
}
